{
 "cells": [
  {
   "cell_type": "code",
   "execution_count": 23,
   "id": "e9082d4b-b795-4405-9740-5cf2741896da",
   "metadata": {},
   "outputs": [],
   "source": [
    "import pandas as pd\n",
    "import numpy as np\n",
    "import matplotlib.pyplot as plt\n",
    "import seaborn as sns"
   ]
  },
  {
   "cell_type": "markdown",
   "id": "72a440c7-300e-4acc-8483-980f1add1442",
   "metadata": {},
   "source": [
    "##Create one Dataframe"
   ]
  },
  {
   "cell_type": "code",
   "execution_count": 24,
   "id": "63fe2a36-f082-4ea9-86f8-381331c573d8",
   "metadata": {},
   "outputs": [],
   "source": [
    "df_2000 = pd.read_csv('Data/final_tmdb_data_2000.csv.gz')\n",
    "df_2001 = pd.read_csv('Data/final_tmdb_data_2001.csv.gz')"
   ]
  },
  {
   "cell_type": "code",
   "execution_count": 25,
   "id": "a3b11955-f0fd-4612-a234-162fa93c997f",
   "metadata": {},
   "outputs": [
    {
     "data": {
      "text/html": [
       "<div>\n",
       "<style scoped>\n",
       "    .dataframe tbody tr th:only-of-type {\n",
       "        vertical-align: middle;\n",
       "    }\n",
       "\n",
       "    .dataframe tbody tr th {\n",
       "        vertical-align: top;\n",
       "    }\n",
       "\n",
       "    .dataframe thead th {\n",
       "        text-align: right;\n",
       "    }\n",
       "</style>\n",
       "<table border=\"1\" class=\"dataframe\">\n",
       "  <thead>\n",
       "    <tr style=\"text-align: right;\">\n",
       "      <th></th>\n",
       "      <th>imdb_id</th>\n",
       "      <th>adult</th>\n",
       "      <th>backdrop_path</th>\n",
       "      <th>belongs_to_collection</th>\n",
       "      <th>budget</th>\n",
       "      <th>genres</th>\n",
       "      <th>homepage</th>\n",
       "      <th>id</th>\n",
       "      <th>original_language</th>\n",
       "      <th>original_title</th>\n",
       "      <th>...</th>\n",
       "      <th>revenue</th>\n",
       "      <th>runtime</th>\n",
       "      <th>spoken_languages</th>\n",
       "      <th>status</th>\n",
       "      <th>tagline</th>\n",
       "      <th>title</th>\n",
       "      <th>video</th>\n",
       "      <th>vote_average</th>\n",
       "      <th>vote_count</th>\n",
       "      <th>certification</th>\n",
       "    </tr>\n",
       "  </thead>\n",
       "  <tbody>\n",
       "    <tr>\n",
       "      <th>0</th>\n",
       "      <td>0</td>\n",
       "      <td>NaN</td>\n",
       "      <td>NaN</td>\n",
       "      <td>NaN</td>\n",
       "      <td>NaN</td>\n",
       "      <td>NaN</td>\n",
       "      <td>NaN</td>\n",
       "      <td>NaN</td>\n",
       "      <td>NaN</td>\n",
       "      <td>NaN</td>\n",
       "      <td>...</td>\n",
       "      <td>NaN</td>\n",
       "      <td>NaN</td>\n",
       "      <td>NaN</td>\n",
       "      <td>NaN</td>\n",
       "      <td>NaN</td>\n",
       "      <td>NaN</td>\n",
       "      <td>NaN</td>\n",
       "      <td>NaN</td>\n",
       "      <td>NaN</td>\n",
       "      <td>NaN</td>\n",
       "    </tr>\n",
       "    <tr>\n",
       "      <th>1</th>\n",
       "      <td>tt0113026</td>\n",
       "      <td>0.0</td>\n",
       "      <td>/vMFs7nw6P0bIV1jDsQpxAieAVnH.jpg</td>\n",
       "      <td>NaN</td>\n",
       "      <td>10000000.0</td>\n",
       "      <td>[{'id': 35, 'name': 'Comedy'}, {'id': 10402, '...</td>\n",
       "      <td>NaN</td>\n",
       "      <td>62127.0</td>\n",
       "      <td>en</td>\n",
       "      <td>The Fantasticks</td>\n",
       "      <td>...</td>\n",
       "      <td>0.0</td>\n",
       "      <td>86.0</td>\n",
       "      <td>[{'english_name': 'English', 'iso_639_1': 'en'...</td>\n",
       "      <td>Released</td>\n",
       "      <td>Try to remember the first time magic happened</td>\n",
       "      <td>The Fantasticks</td>\n",
       "      <td>0.0</td>\n",
       "      <td>5.500</td>\n",
       "      <td>22.0</td>\n",
       "      <td>NaN</td>\n",
       "    </tr>\n",
       "    <tr>\n",
       "      <th>2</th>\n",
       "      <td>tt0113092</td>\n",
       "      <td>0.0</td>\n",
       "      <td>NaN</td>\n",
       "      <td>NaN</td>\n",
       "      <td>0.0</td>\n",
       "      <td>[{'id': 878, 'name': 'Science Fiction'}]</td>\n",
       "      <td>NaN</td>\n",
       "      <td>110977.0</td>\n",
       "      <td>en</td>\n",
       "      <td>For the Cause</td>\n",
       "      <td>...</td>\n",
       "      <td>0.0</td>\n",
       "      <td>100.0</td>\n",
       "      <td>[{'english_name': 'English', 'iso_639_1': 'en'...</td>\n",
       "      <td>Released</td>\n",
       "      <td>The ultimate showdown on a forbidden planet.</td>\n",
       "      <td>For the Cause</td>\n",
       "      <td>0.0</td>\n",
       "      <td>5.450</td>\n",
       "      <td>10.0</td>\n",
       "      <td>NaN</td>\n",
       "    </tr>\n",
       "    <tr>\n",
       "      <th>3</th>\n",
       "      <td>tt0116391</td>\n",
       "      <td>0.0</td>\n",
       "      <td>NaN</td>\n",
       "      <td>NaN</td>\n",
       "      <td>0.0</td>\n",
       "      <td>[{'id': 18, 'name': 'Drama'}, {'id': 28, 'name...</td>\n",
       "      <td>NaN</td>\n",
       "      <td>442869.0</td>\n",
       "      <td>hi</td>\n",
       "      <td>Gang</td>\n",
       "      <td>...</td>\n",
       "      <td>0.0</td>\n",
       "      <td>152.0</td>\n",
       "      <td>[{'english_name': 'Hindi', 'iso_639_1': 'hi', ...</td>\n",
       "      <td>Released</td>\n",
       "      <td>NaN</td>\n",
       "      <td>Gang</td>\n",
       "      <td>0.0</td>\n",
       "      <td>4.000</td>\n",
       "      <td>1.0</td>\n",
       "      <td>NaN</td>\n",
       "    </tr>\n",
       "    <tr>\n",
       "      <th>4</th>\n",
       "      <td>tt0118694</td>\n",
       "      <td>0.0</td>\n",
       "      <td>/n4GJFGzsc7NinI1VeGDXIcQjtU2.jpg</td>\n",
       "      <td>NaN</td>\n",
       "      <td>150000.0</td>\n",
       "      <td>[{'id': 18, 'name': 'Drama'}, {'id': 10749, 'n...</td>\n",
       "      <td>NaN</td>\n",
       "      <td>843.0</td>\n",
       "      <td>cn</td>\n",
       "      <td>花樣年華</td>\n",
       "      <td>...</td>\n",
       "      <td>14204632.0</td>\n",
       "      <td>99.0</td>\n",
       "      <td>[{'english_name': 'Cantonese', 'iso_639_1': 'c...</td>\n",
       "      <td>Released</td>\n",
       "      <td>Feel the heat, keep the feeling burning, let t...</td>\n",
       "      <td>In the Mood for Love</td>\n",
       "      <td>0.0</td>\n",
       "      <td>8.101</td>\n",
       "      <td>2369.0</td>\n",
       "      <td>PG</td>\n",
       "    </tr>\n",
       "  </tbody>\n",
       "</table>\n",
       "<p>5 rows × 26 columns</p>\n",
       "</div>"
      ],
      "text/plain": [
       "     imdb_id  adult                     backdrop_path belongs_to_collection  \\\n",
       "0          0    NaN                               NaN                   NaN   \n",
       "1  tt0113026    0.0  /vMFs7nw6P0bIV1jDsQpxAieAVnH.jpg                   NaN   \n",
       "2  tt0113092    0.0                               NaN                   NaN   \n",
       "3  tt0116391    0.0                               NaN                   NaN   \n",
       "4  tt0118694    0.0  /n4GJFGzsc7NinI1VeGDXIcQjtU2.jpg                   NaN   \n",
       "\n",
       "       budget                                             genres homepage  \\\n",
       "0         NaN                                                NaN      NaN   \n",
       "1  10000000.0  [{'id': 35, 'name': 'Comedy'}, {'id': 10402, '...      NaN   \n",
       "2         0.0           [{'id': 878, 'name': 'Science Fiction'}]      NaN   \n",
       "3         0.0  [{'id': 18, 'name': 'Drama'}, {'id': 28, 'name...      NaN   \n",
       "4    150000.0  [{'id': 18, 'name': 'Drama'}, {'id': 10749, 'n...      NaN   \n",
       "\n",
       "         id original_language   original_title  ...     revenue  runtime  \\\n",
       "0       NaN               NaN              NaN  ...         NaN      NaN   \n",
       "1   62127.0                en  The Fantasticks  ...         0.0     86.0   \n",
       "2  110977.0                en    For the Cause  ...         0.0    100.0   \n",
       "3  442869.0                hi             Gang  ...         0.0    152.0   \n",
       "4     843.0                cn             花樣年華  ...  14204632.0     99.0   \n",
       "\n",
       "                                    spoken_languages    status  \\\n",
       "0                                                NaN       NaN   \n",
       "1  [{'english_name': 'English', 'iso_639_1': 'en'...  Released   \n",
       "2  [{'english_name': 'English', 'iso_639_1': 'en'...  Released   \n",
       "3  [{'english_name': 'Hindi', 'iso_639_1': 'hi', ...  Released   \n",
       "4  [{'english_name': 'Cantonese', 'iso_639_1': 'c...  Released   \n",
       "\n",
       "                                             tagline                 title  \\\n",
       "0                                                NaN                   NaN   \n",
       "1      Try to remember the first time magic happened       The Fantasticks   \n",
       "2       The ultimate showdown on a forbidden planet.         For the Cause   \n",
       "3                                                NaN                  Gang   \n",
       "4  Feel the heat, keep the feeling burning, let t...  In the Mood for Love   \n",
       "\n",
       "   video  vote_average vote_count certification  \n",
       "0    NaN           NaN        NaN           NaN  \n",
       "1    0.0         5.500       22.0           NaN  \n",
       "2    0.0         5.450       10.0           NaN  \n",
       "3    0.0         4.000        1.0           NaN  \n",
       "4    0.0         8.101     2369.0            PG  \n",
       "\n",
       "[5 rows x 26 columns]"
      ]
     },
     "execution_count": 25,
     "metadata": {},
     "output_type": "execute_result"
    }
   ],
   "source": [
    "df= pd.concat([df_2000, df_2001])\n",
    "df.head()"
   ]
  },
  {
   "cell_type": "code",
   "execution_count": 26,
   "id": "3f8afd72-76bb-41af-bc20-159b82abc5f0",
   "metadata": {},
   "outputs": [
    {
     "data": {
      "text/html": [
       "<div>\n",
       "<style scoped>\n",
       "    .dataframe tbody tr th:only-of-type {\n",
       "        vertical-align: middle;\n",
       "    }\n",
       "\n",
       "    .dataframe tbody tr th {\n",
       "        vertical-align: top;\n",
       "    }\n",
       "\n",
       "    .dataframe thead th {\n",
       "        text-align: right;\n",
       "    }\n",
       "</style>\n",
       "<table border=\"1\" class=\"dataframe\">\n",
       "  <thead>\n",
       "    <tr style=\"text-align: right;\">\n",
       "      <th></th>\n",
       "      <th>imdb_id</th>\n",
       "      <th>adult</th>\n",
       "      <th>backdrop_path</th>\n",
       "      <th>belongs_to_collection</th>\n",
       "      <th>budget</th>\n",
       "      <th>genres</th>\n",
       "      <th>homepage</th>\n",
       "      <th>id</th>\n",
       "      <th>original_language</th>\n",
       "      <th>original_title</th>\n",
       "      <th>...</th>\n",
       "      <th>revenue</th>\n",
       "      <th>runtime</th>\n",
       "      <th>spoken_languages</th>\n",
       "      <th>status</th>\n",
       "      <th>tagline</th>\n",
       "      <th>title</th>\n",
       "      <th>video</th>\n",
       "      <th>vote_average</th>\n",
       "      <th>vote_count</th>\n",
       "      <th>certification</th>\n",
       "    </tr>\n",
       "  </thead>\n",
       "  <tbody>\n",
       "    <tr>\n",
       "      <th>1</th>\n",
       "      <td>tt0113026</td>\n",
       "      <td>0.0</td>\n",
       "      <td>/vMFs7nw6P0bIV1jDsQpxAieAVnH.jpg</td>\n",
       "      <td>NaN</td>\n",
       "      <td>10000000.0</td>\n",
       "      <td>[{'id': 35, 'name': 'Comedy'}, {'id': 10402, '...</td>\n",
       "      <td>NaN</td>\n",
       "      <td>62127.0</td>\n",
       "      <td>en</td>\n",
       "      <td>The Fantasticks</td>\n",
       "      <td>...</td>\n",
       "      <td>0.0</td>\n",
       "      <td>86.0</td>\n",
       "      <td>[{'english_name': 'English', 'iso_639_1': 'en'...</td>\n",
       "      <td>Released</td>\n",
       "      <td>Try to remember the first time magic happened</td>\n",
       "      <td>The Fantasticks</td>\n",
       "      <td>0.0</td>\n",
       "      <td>5.500</td>\n",
       "      <td>22.0</td>\n",
       "      <td>NaN</td>\n",
       "    </tr>\n",
       "    <tr>\n",
       "      <th>4</th>\n",
       "      <td>tt0118694</td>\n",
       "      <td>0.0</td>\n",
       "      <td>/n4GJFGzsc7NinI1VeGDXIcQjtU2.jpg</td>\n",
       "      <td>NaN</td>\n",
       "      <td>150000.0</td>\n",
       "      <td>[{'id': 18, 'name': 'Drama'}, {'id': 10749, 'n...</td>\n",
       "      <td>NaN</td>\n",
       "      <td>843.0</td>\n",
       "      <td>cn</td>\n",
       "      <td>花樣年華</td>\n",
       "      <td>...</td>\n",
       "      <td>14204632.0</td>\n",
       "      <td>99.0</td>\n",
       "      <td>[{'english_name': 'Cantonese', 'iso_639_1': 'c...</td>\n",
       "      <td>Released</td>\n",
       "      <td>Feel the heat, keep the feeling burning, let t...</td>\n",
       "      <td>In the Mood for Love</td>\n",
       "      <td>0.0</td>\n",
       "      <td>8.101</td>\n",
       "      <td>2369.0</td>\n",
       "      <td>PG</td>\n",
       "    </tr>\n",
       "    <tr>\n",
       "      <th>6</th>\n",
       "      <td>tt0119273</td>\n",
       "      <td>0.0</td>\n",
       "      <td>/f5C03doOWiauu37bToKXtpgP5bS.jpg</td>\n",
       "      <td>{'id': 141086, 'name': 'Heavy Metal Collection...</td>\n",
       "      <td>15000000.0</td>\n",
       "      <td>[{'id': 28, 'name': 'Action'}, {'id': 12, 'nam...</td>\n",
       "      <td>NaN</td>\n",
       "      <td>16225.0</td>\n",
       "      <td>en</td>\n",
       "      <td>Heavy Metal 2000</td>\n",
       "      <td>...</td>\n",
       "      <td>0.0</td>\n",
       "      <td>88.0</td>\n",
       "      <td>[{'english_name': 'English', 'iso_639_1': 'en'...</td>\n",
       "      <td>Released</td>\n",
       "      <td>not to survive the fight in the external world...</td>\n",
       "      <td>Heavy Metal 2000</td>\n",
       "      <td>0.0</td>\n",
       "      <td>6.078</td>\n",
       "      <td>193.0</td>\n",
       "      <td>R</td>\n",
       "    </tr>\n",
       "    <tr>\n",
       "      <th>10</th>\n",
       "      <td>tt0120202</td>\n",
       "      <td>0.0</td>\n",
       "      <td>/tuerGhZ1lA8wpBjUCEUpeTWDT5B.jpg</td>\n",
       "      <td>NaN</td>\n",
       "      <td>0.0</td>\n",
       "      <td>[{'id': 35, 'name': 'Comedy'}, {'id': 18, 'nam...</td>\n",
       "      <td>http://www.newline.com/properties/stateandmain...</td>\n",
       "      <td>21991.0</td>\n",
       "      <td>en</td>\n",
       "      <td>State and Main</td>\n",
       "      <td>...</td>\n",
       "      <td>9206279.0</td>\n",
       "      <td>106.0</td>\n",
       "      <td>[{'english_name': 'Italian', 'iso_639_1': 'it'...</td>\n",
       "      <td>Released</td>\n",
       "      <td>Big movie. Small town. Huge trouble.</td>\n",
       "      <td>State and Main</td>\n",
       "      <td>0.0</td>\n",
       "      <td>6.327</td>\n",
       "      <td>185.0</td>\n",
       "      <td>NaN</td>\n",
       "    </tr>\n",
       "    <tr>\n",
       "      <th>11</th>\n",
       "      <td>tt0120263</td>\n",
       "      <td>0.0</td>\n",
       "      <td>/ynXVuylP8upazjz8lrqb1PEMkdR.jpg</td>\n",
       "      <td>NaN</td>\n",
       "      <td>0.0</td>\n",
       "      <td>[{'id': 18, 'name': 'Drama'}, {'id': 35, 'name...</td>\n",
       "      <td>NaN</td>\n",
       "      <td>34070.0</td>\n",
       "      <td>sv</td>\n",
       "      <td>Sånger från andra våningen</td>\n",
       "      <td>...</td>\n",
       "      <td>80334.0</td>\n",
       "      <td>99.0</td>\n",
       "      <td>[{'english_name': 'Russian', 'iso_639_1': 'ru'...</td>\n",
       "      <td>Released</td>\n",
       "      <td>NaN</td>\n",
       "      <td>Songs from the Second Floor</td>\n",
       "      <td>0.0</td>\n",
       "      <td>7.200</td>\n",
       "      <td>249.0</td>\n",
       "      <td>NaN</td>\n",
       "    </tr>\n",
       "  </tbody>\n",
       "</table>\n",
       "<p>5 rows × 26 columns</p>\n",
       "</div>"
      ],
      "text/plain": [
       "      imdb_id  adult                     backdrop_path  \\\n",
       "1   tt0113026    0.0  /vMFs7nw6P0bIV1jDsQpxAieAVnH.jpg   \n",
       "4   tt0118694    0.0  /n4GJFGzsc7NinI1VeGDXIcQjtU2.jpg   \n",
       "6   tt0119273    0.0  /f5C03doOWiauu37bToKXtpgP5bS.jpg   \n",
       "10  tt0120202    0.0  /tuerGhZ1lA8wpBjUCEUpeTWDT5B.jpg   \n",
       "11  tt0120263    0.0  /ynXVuylP8upazjz8lrqb1PEMkdR.jpg   \n",
       "\n",
       "                                belongs_to_collection      budget  \\\n",
       "1                                                 NaN  10000000.0   \n",
       "4                                                 NaN    150000.0   \n",
       "6   {'id': 141086, 'name': 'Heavy Metal Collection...  15000000.0   \n",
       "10                                                NaN         0.0   \n",
       "11                                                NaN         0.0   \n",
       "\n",
       "                                               genres  \\\n",
       "1   [{'id': 35, 'name': 'Comedy'}, {'id': 10402, '...   \n",
       "4   [{'id': 18, 'name': 'Drama'}, {'id': 10749, 'n...   \n",
       "6   [{'id': 28, 'name': 'Action'}, {'id': 12, 'nam...   \n",
       "10  [{'id': 35, 'name': 'Comedy'}, {'id': 18, 'nam...   \n",
       "11  [{'id': 18, 'name': 'Drama'}, {'id': 35, 'name...   \n",
       "\n",
       "                                             homepage       id  \\\n",
       "1                                                 NaN  62127.0   \n",
       "4                                                 NaN    843.0   \n",
       "6                                                 NaN  16225.0   \n",
       "10  http://www.newline.com/properties/stateandmain...  21991.0   \n",
       "11                                                NaN  34070.0   \n",
       "\n",
       "   original_language              original_title  ...     revenue  runtime  \\\n",
       "1                 en             The Fantasticks  ...         0.0     86.0   \n",
       "4                 cn                        花樣年華  ...  14204632.0     99.0   \n",
       "6                 en            Heavy Metal 2000  ...         0.0     88.0   \n",
       "10                en              State and Main  ...   9206279.0    106.0   \n",
       "11                sv  Sånger från andra våningen  ...     80334.0     99.0   \n",
       "\n",
       "                                     spoken_languages    status  \\\n",
       "1   [{'english_name': 'English', 'iso_639_1': 'en'...  Released   \n",
       "4   [{'english_name': 'Cantonese', 'iso_639_1': 'c...  Released   \n",
       "6   [{'english_name': 'English', 'iso_639_1': 'en'...  Released   \n",
       "10  [{'english_name': 'Italian', 'iso_639_1': 'it'...  Released   \n",
       "11  [{'english_name': 'Russian', 'iso_639_1': 'ru'...  Released   \n",
       "\n",
       "                                              tagline  \\\n",
       "1       Try to remember the first time magic happened   \n",
       "4   Feel the heat, keep the feeling burning, let t...   \n",
       "6   not to survive the fight in the external world...   \n",
       "10               Big movie. Small town. Huge trouble.   \n",
       "11                                                NaN   \n",
       "\n",
       "                          title  video  vote_average vote_count certification  \n",
       "1               The Fantasticks    0.0         5.500       22.0           NaN  \n",
       "4          In the Mood for Love    0.0         8.101     2369.0            PG  \n",
       "6              Heavy Metal 2000    0.0         6.078      193.0             R  \n",
       "10               State and Main    0.0         6.327      185.0           NaN  \n",
       "11  Songs from the Second Floor    0.0         7.200      249.0           NaN  \n",
       "\n",
       "[5 rows x 26 columns]"
      ]
     },
     "execution_count": 26,
     "metadata": {},
     "output_type": "execute_result"
    }
   ],
   "source": [
    "df_movie_finance = df[(df['budget'] > 0) | (df['revenue'] > 0)]\n",
    "df_movie_finance.head()"
   ]
  },
  {
   "cell_type": "code",
   "execution_count": 32,
   "id": "b98cb52a-8804-4507-955d-2346de8971df",
   "metadata": {},
   "outputs": [
    {
     "name": "stdout",
     "output_type": "stream",
     "text": [
      "Movies with either Budget or Revenue values above 0 (zero): 650\n"
     ]
    }
   ],
   "source": [
    "print(f'Movies with either Budget or Revenue values above 0 (zero): {len(df_movie_finance)}')"
   ]
  },
  {
   "cell_type": "markdown",
   "id": "929841ae-be5b-4c28-bc93-6e94b871485b",
   "metadata": {},
   "source": [
    "###Count of movies in each Certification"
   ]
  },
  {
   "cell_type": "code",
   "execution_count": 35,
   "id": "49ab5336-bd8e-46df-80a8-7ff0c033ad15",
   "metadata": {},
   "outputs": [
    {
     "data": {
      "text/plain": [
       "R        228\n",
       "PG-13    133\n",
       "PG        36\n",
       "NR        21\n",
       "G         15\n",
       "Name: certification, dtype: int64"
      ]
     },
     "execution_count": 35,
     "metadata": {},
     "output_type": "execute_result"
    }
   ],
   "source": [
    "df_movie_finance['certification'].value_counts()"
   ]
  },
  {
   "cell_type": "code",
   "execution_count": 38,
   "id": "7ff77ae4-cdc8-4d12-b2bc-3b4c778a9f69",
   "metadata": {},
   "outputs": [
    {
     "data": {
      "image/png": "[encoded data removed]",
      "text/plain": [
       "<Figure size 640x480 with 1 Axes>"
      ]
     },
     "metadata": {},
     "output_type": "display_data"
    }
   ],
   "source": [
    "ax=sns.countplot(data=df_movie_finance,x='certification')"
   ]
  },
  {
   "cell_type": "markdown",
   "id": "c9f8de7f-dcf2-4c22-bab8-63093f7d92b9",
   "metadata": {},
   "source": [
    "### What is the average revenue per certificaton category?"
   ]
  },
  {
   "cell_type": "code",
   "execution_count": 46,
   "id": "eec7d1e8-597e-416f-bdfe-326e0d7a06d6",
   "metadata": {},
   "outputs": [],
   "source": [
    "pd.options.display.float_format = '{:,.2f}'.format"
   ]
  },
  {
   "cell_type": "code",
   "execution_count": 47,
   "id": "a0b80837-dec8-4a7f-a26e-06bce0ca6db3",
   "metadata": {},
   "outputs": [
    {
     "data": {
      "text/plain": [
       "certification\n",
       "G       117,364,760.80\n",
       "NR       16,831,558.81\n",
       "PG      107,729,664.39\n",
       "PG-13    98,542,189.92\n",
       "R        30,422,981.92\n",
       "Name: revenue, dtype: float64"
      ]
     },
     "execution_count": 47,
     "metadata": {},
     "output_type": "execute_result"
    }
   ],
   "source": [
    "average_revenue = df_movie_finance.groupby('certification')['revenue'].mean()\n",
    "average_revenue"
   ]
  },
  {
   "cell_type": "code",
   "execution_count": 48,
   "id": "84b90279-50ab-4905-8a93-d5e199070209",
   "metadata": {},
   "outputs": [
    {
     "data": {
      "text/plain": [
       "certification\n",
       "G       38,133,333.33\n",
       "NR       9,184,623.57\n",
       "PG      44,027,700.94\n",
       "PG-13   43,324,495.69\n",
       "R       18,433,352.85\n",
       "Name: budget, dtype: float64"
      ]
     },
     "execution_count": 48,
     "metadata": {},
     "output_type": "execute_result"
    }
   ],
   "source": [
    "average_budget = df_movie_finance.groupby('certification')['budget'].mean()\n",
    "average_budget"
   ]
  },
  {
   "cell_type": "code",
   "execution_count": 49,
   "id": "c3c82c8a-1e40-43e2-ac24-5d289bcd5968",
   "metadata": {},
   "outputs": [],
   "source": [
    "df.to_csv(\"Data/tmdb_results_combined.csv.gz\", compression='gzip',\n",
    "                      index=False)"
   ]
  }
 ],
 "metadata": {
  "kernelspec": {
   "display_name": "Python (dojo-env)",
   "language": "python",
   "name": "dojo-env"
  },
  "language_info": {
   "codemirror_mode": {
    "name": "ipython",
    "version": 3
   },
   "file_extension": ".py",
   "mimetype": "text/x-python",
   "name": "python",
   "nbconvert_exporter": "python",
   "pygments_lexer": "ipython3",
   "version": "3.11.4"
  },
  "widgets": {
   "application/vnd.jupyter.widget-state+json": {
    "state": {
     "0787b3d363f643ec87101f7073856c71": {
      "model_module": "@jupyter-widgets/base",
      "model_module_version": "2.0.0",
      "model_name": "LayoutModel",
      "state": {}
     },
     "1e441148c7894817a1eae766172eb014": {
      "model_module": "@jupyter-widgets/base",
      "model_module_version": "2.0.0",
      "model_name": "LayoutModel",
      "state": {}
     },
     "1f8e0d04923c4e91ab302991d7c25cc2": {
      "model_module": "@jupyter-widgets/controls",
      "model_module_version": "2.0.0",
      "model_name": "HTMLModel",
      "state": {
       "layout": "IPY_MODEL_6a7d7839b120432fb30c2a740e8441d3",
       "style": "IPY_MODEL_50b5dee7dab343e38c73fc7d9004757d",
       "value": "YEARS: 100%"
      }
     },
     "288b612727d348bfbdca6eb4b7b2d6b9": {
      "model_module": "@jupyter-widgets/controls",
      "model_module_version": "2.0.0",
      "model_name": "HTMLStyleModel",
      "state": {
       "description_width": "",
       "font_size": null,
       "text_color": null
      }
     },
     "2949ac766a7648ac88d4d3817845a974": {
      "model_module": "@jupyter-widgets/controls",
      "model_module_version": "2.0.0",
      "model_name": "FloatProgressModel",
      "state": {
       "bar_style": "success",
       "layout": "IPY_MODEL_321c8135aec8496fb3233f94c1a71406",
       "max": 2,
       "style": "IPY_MODEL_a324f0f3d91a44fa9d7f3ad9d727e058",
       "value": 2
      }
     },
     "321c8135aec8496fb3233f94c1a71406": {
      "model_module": "@jupyter-widgets/base",
      "model_module_version": "2.0.0",
      "model_name": "LayoutModel",
      "state": {}
     },
     "353ff6e8a4f64690a31b3a769c09ee4e": {
      "model_module": "@jupyter-widgets/controls",
      "model_module_version": "2.0.0",
      "model_name": "HTMLModel",
      "state": {
       "layout": "IPY_MODEL_ec003167596a469a9d27482c28edf215",
       "style": "IPY_MODEL_dfb78f39ca2f47269cb2e476d97cf674",
       "value": " 1584/1584 [11:48&lt;00:00,  3.39it/s]"
      }
     },
     "383a153143a74054b0fae178e1b7229c": {
      "model_module": "@jupyter-widgets/base",
      "model_module_version": "2.0.0",
      "model_name": "LayoutModel",
      "state": {}
     },
     "503b54103a484d63b4e48d63e1925906": {
      "model_module": "@jupyter-widgets/controls",
      "model_module_version": "2.0.0",
      "model_name": "HTMLModel",
      "state": {
       "layout": "IPY_MODEL_e9e30e39b92a424d90b038dbbd41463f",
       "style": "IPY_MODEL_9611435ac45a41b99a726b4a0e8898f8",
       "value": "Movies from 2000: 100%"
      }
     },
     "50b5dee7dab343e38c73fc7d9004757d": {
      "model_module": "@jupyter-widgets/controls",
      "model_module_version": "2.0.0",
      "model_name": "HTMLStyleModel",
      "state": {
       "description_width": "",
       "font_size": null,
       "text_color": null
      }
     },
     "5118c856896d4365b991eeaec99d8cf4": {
      "model_module": "@jupyter-widgets/base",
      "model_module_version": "2.0.0",
      "model_name": "LayoutModel",
      "state": {}
     },
     "6059a56954a24f9c8203958992658bdb": {
      "model_module": "@jupyter-widgets/controls",
      "model_module_version": "2.0.0",
      "model_name": "ProgressStyleModel",
      "state": {
       "description_width": ""
      }
     },
     "674540fd752c4316940a6344d2fece67": {
      "model_module": "@jupyter-widgets/controls",
      "model_module_version": "2.0.0",
      "model_name": "FloatProgressModel",
      "state": {
       "bar_style": "success",
       "layout": "IPY_MODEL_bdbd785949514989a2a70065e1a87288",
       "max": 1584,
       "style": "IPY_MODEL_6ecbd9a45c18427eba04b5adab91b030",
       "value": 1584
      }
     },
     "68541c136fd4491388b57b4c582821c2": {
      "model_module": "@jupyter-widgets/controls",
      "model_module_version": "2.0.0",
      "model_name": "FloatProgressModel",
      "state": {
       "bar_style": "success",
       "layout": "IPY_MODEL_8d57cef242cd459789e30a5c1da74751",
       "max": 1464,
       "style": "IPY_MODEL_6059a56954a24f9c8203958992658bdb",
       "value": 1464
      }
     },
     "6a7d7839b120432fb30c2a740e8441d3": {
      "model_module": "@jupyter-widgets/base",
      "model_module_version": "2.0.0",
      "model_name": "LayoutModel",
      "state": {}
     },
     "6ecbd9a45c18427eba04b5adab91b030": {
      "model_module": "@jupyter-widgets/controls",
      "model_module_version": "2.0.0",
      "model_name": "ProgressStyleModel",
      "state": {
       "description_width": ""
      }
     },
     "7d2aba966beb41a3b73fc9b32dd7ea3a": {
      "model_module": "@jupyter-widgets/controls",
      "model_module_version": "2.0.0",
      "model_name": "HTMLModel",
      "state": {
       "layout": "IPY_MODEL_1e441148c7894817a1eae766172eb014",
       "style": "IPY_MODEL_a9eaf9c6587f4cc59b647ba93bc6de1f",
       "value": "Movies from 2001: 100%"
      }
     },
     "82aae3b97ea440c29aaeb7fc2432f1e8": {
      "model_module": "@jupyter-widgets/controls",
      "model_module_version": "2.0.0",
      "model_name": "HBoxModel",
      "state": {
       "children": [
        "IPY_MODEL_7d2aba966beb41a3b73fc9b32dd7ea3a",
        "IPY_MODEL_674540fd752c4316940a6344d2fece67",
        "IPY_MODEL_353ff6e8a4f64690a31b3a769c09ee4e"
       ],
       "layout": "IPY_MODEL_ac24c0c535f1431eacb19e66f67d7917"
      }
     },
     "8d57cef242cd459789e30a5c1da74751": {
      "model_module": "@jupyter-widgets/base",
      "model_module_version": "2.0.0",
      "model_name": "LayoutModel",
      "state": {}
     },
     "93c4673b03e04aedbca949f22eb80440": {
      "model_module": "@jupyter-widgets/base",
      "model_module_version": "2.0.0",
      "model_name": "LayoutModel",
      "state": {}
     },
     "9611435ac45a41b99a726b4a0e8898f8": {
      "model_module": "@jupyter-widgets/controls",
      "model_module_version": "2.0.0",
      "model_name": "HTMLStyleModel",
      "state": {
       "description_width": "",
       "font_size": null,
       "text_color": null
      }
     },
     "9faa91665c9840b69089af662544cdcc": {
      "model_module": "@jupyter-widgets/controls",
      "model_module_version": "2.0.0",
      "model_name": "HBoxModel",
      "state": {
       "children": [
        "IPY_MODEL_503b54103a484d63b4e48d63e1925906",
        "IPY_MODEL_68541c136fd4491388b57b4c582821c2",
        "IPY_MODEL_df161e7ae352464a9da9d79468fa3746"
       ],
       "layout": "IPY_MODEL_5118c856896d4365b991eeaec99d8cf4"
      }
     },
     "a324f0f3d91a44fa9d7f3ad9d727e058": {
      "model_module": "@jupyter-widgets/controls",
      "model_module_version": "2.0.0",
      "model_name": "ProgressStyleModel",
      "state": {
       "description_width": ""
      }
     },
     "a9eaf9c6587f4cc59b647ba93bc6de1f": {
      "model_module": "@jupyter-widgets/controls",
      "model_module_version": "2.0.0",
      "model_name": "HTMLStyleModel",
      "state": {
       "description_width": "",
       "font_size": null,
       "text_color": null
      }
     },
     "ac24c0c535f1431eacb19e66f67d7917": {
      "model_module": "@jupyter-widgets/base",
      "model_module_version": "2.0.0",
      "model_name": "LayoutModel",
      "state": {}
     },
     "bdbd785949514989a2a70065e1a87288": {
      "model_module": "@jupyter-widgets/base",
      "model_module_version": "2.0.0",
      "model_name": "LayoutModel",
      "state": {}
     },
     "dd0c461ae4624e6e86ada5ea0c041601": {
      "model_module": "@jupyter-widgets/controls",
      "model_module_version": "2.0.0",
      "model_name": "HBoxModel",
      "state": {
       "children": [
        "IPY_MODEL_1f8e0d04923c4e91ab302991d7c25cc2",
        "IPY_MODEL_2949ac766a7648ac88d4d3817845a974",
        "IPY_MODEL_fc22f55a742c4ca295c50236d88a37b3"
       ],
       "layout": "IPY_MODEL_93c4673b03e04aedbca949f22eb80440"
      }
     },
     "df161e7ae352464a9da9d79468fa3746": {
      "model_module": "@jupyter-widgets/controls",
      "model_module_version": "2.0.0",
      "model_name": "HTMLModel",
      "state": {
       "layout": "IPY_MODEL_383a153143a74054b0fae178e1b7229c",
       "style": "IPY_MODEL_e0d1f365f1b54a918af3aa5a4eeca87f",
       "value": " 1464/1464 [18:29&lt;00:00,  2.61it/s]"
      }
     },
     "dfb78f39ca2f47269cb2e476d97cf674": {
      "model_module": "@jupyter-widgets/controls",
      "model_module_version": "2.0.0",
      "model_name": "HTMLStyleModel",
      "state": {
       "description_width": "",
       "font_size": null,
       "text_color": null
      }
     },
     "e0d1f365f1b54a918af3aa5a4eeca87f": {
      "model_module": "@jupyter-widgets/controls",
      "model_module_version": "2.0.0",
      "model_name": "HTMLStyleModel",
      "state": {
       "description_width": "",
       "font_size": null,
       "text_color": null
      }
     },
     "e9e30e39b92a424d90b038dbbd41463f": {
      "model_module": "@jupyter-widgets/base",
      "model_module_version": "2.0.0",
      "model_name": "LayoutModel",
      "state": {}
     },
     "ec003167596a469a9d27482c28edf215": {
      "model_module": "@jupyter-widgets/base",
      "model_module_version": "2.0.0",
      "model_name": "LayoutModel",
      "state": {}
     },
     "fc22f55a742c4ca295c50236d88a37b3": {
      "model_module": "@jupyter-widgets/controls",
      "model_module_version": "2.0.0",
      "model_name": "HTMLModel",
      "state": {
       "layout": "IPY_MODEL_0787b3d363f643ec87101f7073856c71",
       "style": "IPY_MODEL_288b612727d348bfbdca6eb4b7b2d6b9",
       "value": " 2/2 [30:18&lt;00:00, 873.92s/it]"
      }
     }
    },
    "version_major": 2,
    "version_minor": 0
   }
  }
 },
 "nbformat": 4,
 "nbformat_minor": 5
}
